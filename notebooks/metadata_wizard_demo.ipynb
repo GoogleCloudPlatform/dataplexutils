{
 "cells": [
  {
   "cell_type": "markdown",
   "metadata": {},
   "source": [
    "Copyright 2024 Google LLC\n",
    "\n",
    "Licensed under the Apache License, Version 2.0 (the \"License\");\n",
    "you may not use this file except in compliance with the License.\n",
    "You may obtain a copy of the License at\n",
    "\n",
    "    https://www.apache.org/licenses/LICENSE-2.0\n",
    "\n",
    "Unless required by applicable law or agreed to in writing, software\n",
    "distributed under the License is distributed on an \"AS IS\" BASIS,\n",
    "WITHOUT WARRANTIES OR CONDITIONS OF ANY KIND, either express or implied.\n",
    "See the License for the specific language governing permissions and\n",
    "limitations under the License."
   ]
  },
  {
   "cell_type": "markdown",
   "metadata": {},
   "source": [
    "# dataplex-utils\n",
    "## metadata\n",
    "### wizard"
   ]
  },
  {
   "cell_type": "markdown",
   "metadata": {},
   "source": [
    "Build the package launching `source build_install_package.sh` from Terminal"
   ]
  },
  {
   "cell_type": "code",
   "execution_count": 12,
   "metadata": {},
   "outputs": [],
   "source": [
    "#! pip install ../src/package/dist/dataplexutils_metadata_wizard-0.0.1-py3-none-any.whl --force-reinstall --quiet"
   ]
  },
  {
   "cell_type": "markdown",
   "metadata": {},
   "source": [
    "Restart notebook kernel"
   ]
  },
  {
   "cell_type": "code",
   "execution_count": 13,
   "metadata": {},
   "outputs": [],
   "source": [
    "import IPython\n",
    "\n",
    "app = IPython.Application.instance()\n",
    "#app.kernel.do_shutdown(True)\n",
    "\n"
   ]
  },
  {
   "cell_type": "code",
   "execution_count": 2,
   "metadata": {},
   "outputs": [],
   "source": [
    "\n",
    "import sys\n",
    "\n",
    "from dataplexutils.metadata.wizard import Client, ClientOptions"
   ]
  },
  {
   "cell_type": "code",
   "execution_count": null,
   "metadata": {},
   "outputs": [],
   "source": [
    "PROJECT_ID = \"project-id\"\n",
    "DATASET_ID = \"metadata_generation\"\n",
    "TABLE_ID = \"ccagg\"\n",
    "LLM_LOCATION = \"us-central1\"\n",
    "DATAPLEX_LOCATION =  \"us-central1\"\n",
    "DOCUMENTATION_URI = \"us-central1\""
   ]
  },
  {
   "cell_type": "code",
   "execution_count": null,
   "metadata": {},
   "outputs": [],
   "source": [
    "client_options = ClientOptions(\n",
    "    use_lineage_tables=True,\n",
    "    use_lineage_processes=True,\n",
    "    use_profile=True,\n",
    "    use_data_quality=False,\n",
    "    use_ext_documents=False,\n",
    "    )\n",
    "\n",
    "client = Client(\n",
    "    project_id=PROJECT_ID,\n",
    "    llm_location=LLM_LOCATION,\n",
    "    dataplex_location=DATAPLEX_LOCATION,\n",
    "    client_options=client_options,\n",
    ")"
   ]
  },
  {
   "cell_type": "code",
   "execution_count": 5,
   "metadata": {},
   "outputs": [],
   "source": [
    "table_fqn = f\"{PROJECT_ID}.{DATASET_ID}.{TABLE_ID}\""
   ]
  },
  {
   "cell_type": "code",
   "execution_count": null,
   "metadata": {},
   "outputs": [],
   "source": [
    "client.generate_table_description(table_fqn,'gs://wizard-documents/ChicagoChrimesTable.pdf')"
   ]
  },
  {
   "cell_type": "code",
   "execution_count": null,
   "metadata": {},
   "outputs": [],
   "source": [
    "client.generate_columns_descriptions(table_fqn,'gs://wizard-documents/ChicagoChrimesTable.pdf')"
   ]
  },
  {
   "cell_type": "markdown",
   "metadata": {},
   "source": []
  }
 ],
 "metadata": {
  "kernelspec": {
   "display_name": "Python 3",
   "language": "python",
   "name": "python3"
  },
  "language_info": {
   "codemirror_mode": {
    "name": "ipython",
    "version": 3
   },
   "file_extension": ".py",
   "mimetype": "text/x-python",
   "name": "python",
   "nbconvert_exporter": "python",
   "pygments_lexer": "ipython3",
   "version": "3.11.6"
  }
 },
 "nbformat": 4,
 "nbformat_minor": 2
}
