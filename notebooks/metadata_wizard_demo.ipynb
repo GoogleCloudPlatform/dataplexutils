{
 "cells": [
  {
   "cell_type": "markdown",
   "metadata": {},
   "source": [
    "# dataplex-utils\n",
    "## metadata\n",
    "### wizard"
   ]
  },
  {
   "cell_type": "markdown",
   "metadata": {},
   "source": [
    "Build the package launching `source build_install_package.sh` from Terminal"
   ]
  },
  {
   "cell_type": "code",
   "execution_count": null,
   "metadata": {},
   "outputs": [],
   "source": [
    "! pip install ../src/package/dist/dataplexutils_metadata_wizard-0.0.1-py3-none-any.whl --force-reinstall --quiet"
   ]
  },
  {
   "cell_type": "markdown",
   "metadata": {},
   "source": [
    "Restart notebook kernel"
   ]
  },
  {
   "cell_type": "code",
   "execution_count": null,
   "metadata": {},
   "outputs": [],
   "source": [
    "import IPython\n",
    "\n",
    "app = IPython.Application.instance()\n",
    "app.kernel.do_shutdown(True)"
   ]
  },
  {
   "cell_type": "code",
   "execution_count": 6,
   "metadata": {},
   "outputs": [
    {
     "ename": "ModuleNotFoundError",
     "evalue": "No module named 'dataplexutils'",
     "output_type": "error",
     "traceback": [
      "\u001b[0;31m---------------------------------------------------------------------------\u001b[0m",
      "\u001b[0;31mModuleNotFoundError\u001b[0m                       Traceback (most recent call last)",
      "Cell \u001b[0;32mIn[6], line 1\u001b[0m\n\u001b[0;32m----> 1\u001b[0m \u001b[38;5;28;01mfrom\u001b[39;00m \u001b[38;5;21;01mdataplexutils\u001b[39;00m\u001b[38;5;21;01m.\u001b[39;00m\u001b[38;5;21;01mmetadata\u001b[39;00m\u001b[38;5;21;01m.\u001b[39;00m\u001b[38;5;21;01mwizard\u001b[39;00m \u001b[38;5;28;01mimport\u001b[39;00m Client, ClientOptions\n",
      "\u001b[0;31mModuleNotFoundError\u001b[0m: No module named 'dataplexutils'"
     ]
    }
   ],
   "source": [
    "from dataplexutils.metadata.wizard import Client, ClientOptions"
   ]
  },
  {
   "cell_type": "code",
   "execution_count": 3,
   "metadata": {},
   "outputs": [],
   "source": [
    "PROJECT_ID = \"jsk-dataplex-demo-380508\"\n",
    "DATASET_ID = \"metadata_generation\"\n",
    "TABLE_ID = \"cc\"\n",
    "LOCATION = \"us-central1\""
   ]
  },
  {
   "cell_type": "code",
   "execution_count": 5,
   "metadata": {},
   "outputs": [
    {
     "ename": "NameError",
     "evalue": "name 'ClientOptions' is not defined",
     "output_type": "error",
     "traceback": [
      "\u001b[0;31m---------------------------------------------------------------------------\u001b[0m",
      "\u001b[0;31mNameError\u001b[0m                                 Traceback (most recent call last)",
      "Cell \u001b[0;32mIn[5], line 1\u001b[0m\n\u001b[0;32m----> 1\u001b[0m client_options \u001b[38;5;241m=\u001b[39m \u001b[43mClientOptions\u001b[49m(\n\u001b[1;32m      2\u001b[0m     use_lineage_tables\u001b[38;5;241m=\u001b[39m\u001b[38;5;28;01mTrue\u001b[39;00m, use_lineage_processes\u001b[38;5;241m=\u001b[39m\u001b[38;5;28;01mTrue\u001b[39;00m, use_profile\u001b[38;5;241m=\u001b[39m\u001b[38;5;28;01mTrue\u001b[39;00m, use_data_quality\u001b[38;5;241m=\u001b[39m\u001b[38;5;28;01mTrue\u001b[39;00m)\n\u001b[1;32m      3\u001b[0m client \u001b[38;5;241m=\u001b[39m Client(project_id\u001b[38;5;241m=\u001b[39mPROJECT_ID, location\u001b[38;5;241m=\u001b[39mLOCATION, client_options\u001b[38;5;241m=\u001b[39mclient_options)\n\u001b[1;32m      4\u001b[0m table_fqn \u001b[38;5;241m=\u001b[39m \u001b[38;5;124mf\u001b[39m\u001b[38;5;124m\"\u001b[39m\u001b[38;5;132;01m{\u001b[39;00mPROJECT_ID\u001b[38;5;132;01m}\u001b[39;00m\u001b[38;5;124m.\u001b[39m\u001b[38;5;132;01m{\u001b[39;00mDATASET_ID\u001b[38;5;132;01m}\u001b[39;00m\u001b[38;5;124m.\u001b[39m\u001b[38;5;132;01m{\u001b[39;00mTABLE_ID\u001b[38;5;132;01m}\u001b[39;00m\u001b[38;5;124m\"\u001b[39m\n",
      "\u001b[0;31mNameError\u001b[0m: name 'ClientOptions' is not defined"
     ]
    }
   ],
   "source": [
    "client_options = ClientOptions(\n",
    "    use_lineage_tables=True, use_lineage_processes=True, use_profile=True, use_data_quality=True)\n",
    "client = Client(project_id=PROJECT_ID, location=LOCATION, client_options=client_options)\n",
    "table_fqn = f\"{PROJECT_ID}.{DATASET_ID}.{TABLE_ID}\""
   ]
  },
  {
   "cell_type": "code",
   "execution_count": 11,
   "metadata": {},
   "outputs": [
    {
     "name": "stderr",
     "output_type": "stream",
     "text": [
      "Python(31675) MallocStackLogging: can't turn off malloc stack logging because it was not enabled.\n"
     ]
    }
   ],
   "source": [
    "from google.cloud import bigquery\n",
    "\n",
    "table_fqn = f\"{PROJECT_ID}.{DATASET_ID}.{TABLE_ID}\"\n",
    "bigquery_client = bigquery.Client(project=PROJECT_ID)\n",
    "table = bigquery_client.get_table(table_fqn)"
   ]
  },
  {
   "cell_type": "code",
   "execution_count": 31,
   "metadata": {},
   "outputs": [],
   "source": [
    "\n",
    "original_schema = table.schema\n",
    "for field in original_schema:\n",
    "    new_field = bigquery.SchemaField(\n",
    "            name=field.name,\n",
    "            field_type=field.field_type,\n",
    "            mode=field.mode,\n",
    "            default_value_expression=field.default_value_expression,\n",
    "            description= \"dupa\" field.description,\n",
    "            fields=field.fields,\n",
    "            policy_tags = field.policy_tags,\n",
    "            precision = field.precision\n",
    "            max_length = field.max_length, \n",
    "            ))\n",
    "\n",
    "# Replace the element with the new one\n",
    "\n",
    "\n"
   ]
  },
  {
   "cell_type": "code",
   "execution_count": 35,
   "metadata": {},
   "outputs": [
    {
     "ename": "AttributeError",
     "evalue": "can't set attribute",
     "output_type": "error",
     "traceback": [
      "\u001b[0;31m---------------------------------------------------------------------------\u001b[0m",
      "\u001b[0;31mAttributeError\u001b[0m                            Traceback (most recent call last)",
      "Cell \u001b[0;32mIn[35], line 2\u001b[0m\n\u001b[1;32m      1\u001b[0m new_element\u001b[38;5;241m=\u001b[39mnew_schema[index]\n\u001b[0;32m----> 2\u001b[0m \u001b[43mnew_element\u001b[49m\u001b[38;5;241;43m.\u001b[39;49m\u001b[43mdescription\u001b[49m \u001b[38;5;241m=\u001b[39m \u001b[38;5;124m\"\u001b[39m\u001b[38;5;124mDupa\u001b[39m\u001b[38;5;124m\"\u001b[39m\n",
      "\u001b[0;31mAttributeError\u001b[0m: can't set attribute"
     ]
    }
   ],
   "source": [
    "new_element=new_schema[index]\n"
   ]
  },
  {
   "cell_type": "code",
   "execution_count": null,
   "metadata": {},
   "outputs": [],
   "source": [
    ".index(BigQuerySchemaElement(name='column_name'))\n",
    "\n",
    "# Replace the element with the new one\n",
    "new_schema[index] = new_element\n"
   ]
  },
  {
   "cell_type": "code",
   "execution_count": null,
   "metadata": {},
   "outputs": [],
   "source": [
    "\n",
    "\n",
    "table.schema = new_schema\n",
    "table = client.update_table(table, [\"schema\"])  # Make an API request.\n",
    "\n",
    "if len(table.schema) == len(original_schema) + 1 == len(new_schema):\n",
    "    print(\"A new column has been added.\")\n",
    "else:\n",
    "    print(\"The column has not been added.\")"
   ]
  }
 ],
 "metadata": {
  "kernelspec": {
   "display_name": "Python 3",
   "language": "python",
   "name": "python3"
  },
  "language_info": {
   "codemirror_mode": {
    "name": "ipython",
    "version": 3
   },
   "file_extension": ".py",
   "mimetype": "text/x-python",
   "name": "python",
   "nbconvert_exporter": "python",
   "pygments_lexer": "ipython3",
   "version": "3.9.6"
  }
 },
 "nbformat": 4,
 "nbformat_minor": 2
}
