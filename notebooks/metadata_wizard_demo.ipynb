{
 "cells": [
  {
   "cell_type": "markdown",
   "metadata": {},
   "source": [
    "# dataplex-utils\n",
    "## metadata\n",
    "### wizard"
   ]
  },
  {
   "cell_type": "markdown",
   "metadata": {},
   "source": [
    "Build the package launching `source build_install_package.sh` from Terminal"
   ]
  },
  {
   "cell_type": "code",
   "execution_count": null,
   "metadata": {},
   "outputs": [],
   "source": [
    "! pip install ../src/package/dist/dataplexutils_metadata_wizard-0.0.1-py3-none-any.whl --force-reinstall --quiet"
   ]
  },
  {
   "cell_type": "markdown",
   "metadata": {},
   "source": [
    "Restart notebook kernel"
   ]
  },
  {
   "cell_type": "code",
   "execution_count": null,
   "metadata": {},
   "outputs": [],
   "source": [
    "import IPython\n",
    "\n",
    "app = IPython.Application.instance()\n",
    "app.kernel.do_shutdown(True)"
   ]
  },
  {
   "cell_type": "code",
   "execution_count": null,
   "metadata": {},
   "outputs": [],
   "source": [
    "from dataplexutils.metadata.wizard import Client, ClientOptions"
   ]
  },
  {
   "cell_type": "code",
   "execution_count": null,
   "metadata": {},
   "outputs": [],
   "source": [
    "PROJECT_ID = \"TO_DO_DEVELOPER\"\n",
    "DATASET_ID = \"TO_DO_DEVELOPER\"\n",
    "TABLE_ID = \"TO_DO_DEVELOPER\"\n",
    "LLM_LOCATION = \"TO_DO_DEVELOPER\"\n",
    "DATAPLEX_LOCATION =  \"TO_DO_DEVELOPER\"\n",
    "DOCUMENTATION_URI = \"TO_DO_DEVELOPER\""
   ]
  },
  {
   "cell_type": "code",
   "execution_count": null,
   "metadata": {},
   "outputs": [],
   "source": [
    "client_options = ClientOptions(\n",
    "    use_lineage_tables=True,\n",
    "    use_lineage_processes=True,\n",
    "    use_profile=True,\n",
    "    use_data_quality=True)\n",
    "\n",
    "client = Client(\n",
    "    project_id=PROJECT_ID,\n",
    "    llm_location=LLM_LOCATION,\n",
    "    dataplex_location=DATAPLEX_LOCATION,\n",
    "    documentation_uri=DOCUMENTATION_URI,\n",
    "    client_options=client_options,\n",
    ")"
   ]
  },
  {
   "cell_type": "code",
   "execution_count": null,
   "metadata": {},
   "outputs": [],
   "source": [
    "table_fqn = f\"{PROJECT_ID}.{DATASET_ID}.{TABLE_ID}\""
   ]
  },
  {
   "cell_type": "code",
   "execution_count": null,
   "metadata": {},
   "outputs": [],
   "source": [
    "client.generate_table_description(table_fqn)"
   ]
  },
  {
   "cell_type": "code",
   "execution_count": null,
   "metadata": {},
   "outputs": [],
   "source": [
    "client.generate_columns_descriptions(table_fqn)"
   ]
  }
 ],
 "metadata": {
  "kernelspec": {
   "display_name": "Python 3",
   "language": "python",
   "name": "python3"
  },
  "language_info": {
   "codemirror_mode": {
    "name": "ipython",
    "version": 3
   },
   "file_extension": ".py",
   "mimetype": "text/x-python",
   "name": "python",
   "nbconvert_exporter": "python",
   "pygments_lexer": "ipython3",
   "version": "3.9.6"
  }
 },
 "nbformat": 4,
 "nbformat_minor": 2
}
